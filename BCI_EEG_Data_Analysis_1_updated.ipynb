{
  "nbformat": 4,
  "nbformat_minor": 0,
  "metadata": {
    "colab": {
      "provenance": [],
      "mount_file_id": "1uU79l0ZiIbKFSvO2y7W1K8su9tQDiEIw",
      "authorship_tag": "ABX9TyOXMIdMNcOxfBgD0ctf9M63",
      "include_colab_link": true
    },
    "kernelspec": {
      "name": "python3",
      "display_name": "Python 3"
    },
    "language_info": {
      "name": "python"
    }
  },
  "cells": [
    {
      "cell_type": "markdown",
      "metadata": {
        "id": "view-in-github",
        "colab_type": "text"
      },
      "source": [
        "<a href=\"https://colab.research.google.com/github/hecshzye/brain_computer_interface_analysis_1/blob/main/BCI_EEG_Data_Analysis_1_updated.ipynb\" target=\"_parent\"><img src=\"https://colab.research.google.com/assets/colab-badge.svg\" alt=\"Open In Colab\"/></a>"
      ]
    },
    {
      "cell_type": "code",
      "execution_count": 2,
      "metadata": {
        "id": "5HFSMmMp9TU2"
      },
      "outputs": [],
      "source": [
        "# Imports \n",
        "\n",
        "import pandas as pd\n",
        "import numpy as np\n",
        "import matplotlib.pyplot as plt \n",
        "\n",
        "import requests\n",
        "\n",
        "# To load and read Matlab data \n",
        "from scipy.io import loadmat "
      ]
    },
    {
      "cell_type": "code",
      "source": [
        "# Load the data from the directory \n",
        "\n",
        "mat_data = loadmat(\"BCICIV_calib_ds1d.mat\", struct_as_record=True)"
      ],
      "metadata": {
        "id": "m17QNm-d-zNF"
      },
      "execution_count": 3,
      "outputs": []
    },
    {
      "cell_type": "code",
      "source": [
        "# Analysing the keys of mat_data\n",
        "mat_data.keys()"
      ],
      "metadata": {
        "colab": {
          "base_uri": "https://localhost:8080/"
        },
        "id": "w_EtBXQl_cTh",
        "outputId": "814cc8da-016a-4224-b85d-2eaaf9e5b309"
      },
      "execution_count": 5,
      "outputs": [
        {
          "output_type": "execute_result",
          "data": {
            "text/plain": [
              "dict_keys(['__header__', '__version__', '__globals__', 'mrk', 'cnt', 'nfo'])"
            ]
          },
          "metadata": {},
          "execution_count": 5
        }
      ]
    },
    {
      "cell_type": "code",
      "source": [
        "# Signal frequency of the EEG data \n",
        "sfreq = mat_data[\"nfo\"][\"fs\"][0][0][0][0]\n",
        "\n",
        "# Data manipulations \n",
        "EEGdata = mat_data[\"cnt\"].T   #transpose \n",
        "\n",
        "# Number of EEG--Channels\n",
        "nchannels, nsamples = EEGdata.shape \n",
        "\n",
        "# Channel Names\n",
        "chan_names = [s[0] for s in mat_data[\"nfo\"][\"clab\"][0][0][0]]"
      ],
      "metadata": {
        "id": "UhCl23CO_jm8"
      },
      "execution_count": 6,
      "outputs": []
    },
    {
      "cell_type": "code",
      "source": [
        "# Events --\n",
        "event_onsets = mat_data[\"mrk\"][0][0][0]\n",
        "event_codes = mat_data[\"mrk\"][0][0][1]\n",
        "\n",
        "# labels \n",
        "labels = np.zeros((1, nsamples), int)\n",
        "labels[0, event_onsets] = event_codes\n",
        "\n",
        "cl_lab = [s[0] for s in mat_data[\"nfo\"][\"classes\"][0][0][0]]\n",
        "cl1 = cl_lab[0]\n",
        "cl2 = cl_lab[1]"
      ],
      "metadata": {
        "id": "QpzBz5FGBBg_"
      },
      "execution_count": 7,
      "outputs": []
    },
    {
      "cell_type": "code",
      "source": [
        "# EEG Electrode positions digitised \n",
        "xpos = mat_data[\"nfo\"][\"xpos\"]\n",
        "ypos = mat_data[\"nfo\"][\"ypos\"]\n",
        "\n",
        "nclasses = len(cl_lab)\n",
        "nevents = len(event_onsets)"
      ],
      "metadata": {
        "id": "mBcdAlgpG5SZ"
      },
      "execution_count": 9,
      "outputs": []
    },
    {
      "cell_type": "code",
      "source": [
        "# Visualize \n",
        "print(\"Sample Rate:\", sfreq)\n",
        "print(\"Channel Names:\", nchannels)\n",
        "print(\"Shape of EEG data:\", EEGdata.shape)\n",
        "print(\"NUmber of channels:\", nchannels)\n",
        "print(\"Number of Events:\", len(event_onsets))\n",
        "print(\"Number of Classes:\", nclasses)\n",
        "print(\"Class Labels:\", cl_lab)\n",
        "print(\"Event Codes:\", np.unique(event_codes))\n"
      ],
      "metadata": {
        "colab": {
          "base_uri": "https://localhost:8080/"
        },
        "id": "wttBqB1-HV3F",
        "outputId": "3e7dc02b-3017-41ef-b184-6c623ae1bfe7"
      },
      "execution_count": 10,
      "outputs": [
        {
          "output_type": "stream",
          "name": "stdout",
          "text": [
            "Sample Rate: 100\n",
            "Channel Names: 59\n",
            "Shape of EEG data: (59, 190473)\n",
            "NUmber of channels: 59\n",
            "Number of Events: 1\n",
            "Number of Classes: 2\n",
            "Class Labels: ['left', 'right']\n",
            "Event Codes: [-1  1]\n"
          ]
        }
      ]
    },
    {
      "cell_type": "code",
      "source": [
        "# Store the trials in a Dict, for each class\n",
        "trials = {}\n",
        "\n",
        "# Total window of time to extract for each trial\n",
        "win = np.arange(int(0.5*sfreq), int(2.5*sfreq))\n",
        "\n",
        "# Length of each time window\n",
        "nsamples = len(win)\n",
        "\n",
        "# Createw a loop over classes -- right, foot\n",
        "for cl, code in zip(cl_lab, np.unique(event_codes)):\n",
        "\n",
        "  # for the onset of each class\n",
        "  cl_onsets = event_onsets[event_codes == code]\n",
        "\n",
        "  # for the memory of each trial\n",
        "  trials[cl] = np.zeros((nchannels, nsamples, len(cl_onsets)))\n",
        "\n",
        "  # for each trial\n",
        "  for i, onset in enumerate(cl_onsets):\n",
        "    trials[cl][:,:,i] = EEGdata[:, win+onset]\n"
      ],
      "metadata": {
        "id": "zKDAbZvNIVci"
      },
      "execution_count": 14,
      "outputs": []
    },
    {
      "cell_type": "code",
      "source": [
        "# Shape of each trial\n",
        "print(\"Shape of trial[cl1]:\", trials[cl1].shape)\n",
        "print(\"shape of trials[cl2]:\", trials[cl2].shape)"
      ],
      "metadata": {
        "colab": {
          "base_uri": "https://localhost:8080/"
        },
        "id": "XUtcQJ6qKNbF",
        "outputId": "faa1ae06-f117-4729-fdcd-ab11bb0b2f4d"
      },
      "execution_count": 15,
      "outputs": [
        {
          "output_type": "stream",
          "name": "stdout",
          "text": [
            "Shape of trial[cl1]: (59, 200, 100)\n",
            "shape of trials[cl2]: (59, 200, 100)\n"
          ]
        }
      ]
    },
    {
      "cell_type": "code",
      "source": [
        "%qtconsole"
      ],
      "metadata": {
        "id": "U72-uxLYLzXi"
      },
      "execution_count": 16,
      "outputs": []
    },
    {
      "cell_type": "code",
      "source": [
        "left_hand = np.rollaxis(trials[cl1], 2, 0)\n",
        "right_hand =  np.rollaxis(trials[cl2], 2, 0)\n",
        "\n",
        "# Shape of left and right hand\n",
        "left_hand.shape, right_hand.shape "
      ],
      "metadata": {
        "colab": {
          "base_uri": "https://localhost:8080/"
        },
        "id": "jiWKXSfCL9uC",
        "outputId": "b5749909-2276-499a-d450-82f52808b4ba"
      },
      "execution_count": 19,
      "outputs": [
        {
          "output_type": "execute_result",
          "data": {
            "text/plain": [
              "((100, 59, 200), (100, 59, 200))"
            ]
          },
          "metadata": {},
          "execution_count": 19
        }
      ]
    },
    {
      "cell_type": "code",
      "source": [
        "data = np.concatenate([left_hand, right_hand])\n",
        "\n",
        "# Create labels\n",
        "Y = np.concatenate([-np.ones(left_hand.shape[0]),\n",
        "                    np.ones(right_hand.shape[0])])"
      ],
      "metadata": {
        "id": "RBb7nqzZMOuU"
      },
      "execution_count": 20,
      "outputs": []
    },
    {
      "cell_type": "markdown",
      "source": [
        "### MNE Structures for EEG data visualization"
      ],
      "metadata": {
        "id": "JihdRCwjM2I3"
      }
    },
    {
      "cell_type": "code",
      "source": [
        "!pip install mne "
      ],
      "metadata": {
        "colab": {
          "base_uri": "https://localhost:8080/"
        },
        "id": "6FK9e7-rNt7K",
        "outputId": "6f0f026e-c77c-40a4-b7b9-b040de619f66"
      },
      "execution_count": 22,
      "outputs": [
        {
          "output_type": "stream",
          "name": "stdout",
          "text": [
            "Looking in indexes: https://pypi.org/simple, https://us-python.pkg.dev/colab-wheels/public/simple/\n",
            "Collecting mne\n",
            "  Downloading mne-1.2.1-py3-none-any.whl (7.6 MB)\n",
            "\u001b[K     |████████████████████████████████| 7.6 MB 5.2 MB/s \n",
            "\u001b[?25hRequirement already satisfied: numpy>=1.15.4 in /usr/local/lib/python3.7/dist-packages (from mne) (1.21.6)\n",
            "Requirement already satisfied: matplotlib in /usr/local/lib/python3.7/dist-packages (from mne) (3.2.2)\n",
            "Requirement already satisfied: decorator in /usr/local/lib/python3.7/dist-packages (from mne) (4.4.2)\n",
            "Requirement already satisfied: scipy>=1.1.0 in /usr/local/lib/python3.7/dist-packages (from mne) (1.7.3)\n",
            "Requirement already satisfied: pooch>=1.5 in /usr/local/lib/python3.7/dist-packages (from mne) (1.6.0)\n",
            "Requirement already satisfied: jinja2 in /usr/local/lib/python3.7/dist-packages (from mne) (2.11.3)\n",
            "Requirement already satisfied: packaging in /usr/local/lib/python3.7/dist-packages (from mne) (21.3)\n",
            "Requirement already satisfied: tqdm in /usr/local/lib/python3.7/dist-packages (from mne) (4.64.1)\n",
            "Requirement already satisfied: requests>=2.19.0 in /usr/local/lib/python3.7/dist-packages (from pooch>=1.5->mne) (2.23.0)\n",
            "Requirement already satisfied: appdirs>=1.3.0 in /usr/local/lib/python3.7/dist-packages (from pooch>=1.5->mne) (1.4.4)\n",
            "Requirement already satisfied: pyparsing!=3.0.5,>=2.0.2 in /usr/local/lib/python3.7/dist-packages (from packaging->mne) (3.0.9)\n",
            "Requirement already satisfied: certifi>=2017.4.17 in /usr/local/lib/python3.7/dist-packages (from requests>=2.19.0->pooch>=1.5->mne) (2022.9.24)\n",
            "Requirement already satisfied: idna<3,>=2.5 in /usr/local/lib/python3.7/dist-packages (from requests>=2.19.0->pooch>=1.5->mne) (2.10)\n",
            "Requirement already satisfied: urllib3!=1.25.0,!=1.25.1,<1.26,>=1.21.1 in /usr/local/lib/python3.7/dist-packages (from requests>=2.19.0->pooch>=1.5->mne) (1.24.3)\n",
            "Requirement already satisfied: chardet<4,>=3.0.2 in /usr/local/lib/python3.7/dist-packages (from requests>=2.19.0->pooch>=1.5->mne) (3.0.4)\n",
            "Requirement already satisfied: MarkupSafe>=0.23 in /usr/local/lib/python3.7/dist-packages (from jinja2->mne) (2.0.1)\n",
            "Requirement already satisfied: kiwisolver>=1.0.1 in /usr/local/lib/python3.7/dist-packages (from matplotlib->mne) (1.4.4)\n",
            "Requirement already satisfied: python-dateutil>=2.1 in /usr/local/lib/python3.7/dist-packages (from matplotlib->mne) (2.8.2)\n",
            "Requirement already satisfied: cycler>=0.10 in /usr/local/lib/python3.7/dist-packages (from matplotlib->mne) (0.11.0)\n",
            "Requirement already satisfied: typing-extensions in /usr/local/lib/python3.7/dist-packages (from kiwisolver>=1.0.1->matplotlib->mne) (4.1.1)\n",
            "Requirement already satisfied: six>=1.5 in /usr/local/lib/python3.7/dist-packages (from python-dateutil>=2.1->matplotlib->mne) (1.15.0)\n",
            "Installing collected packages: mne\n",
            "Successfully installed mne-1.2.1\n"
          ]
        }
      ]
    },
    {
      "cell_type": "code",
      "source": [
        "# Imports\n",
        "import mne \n",
        "\n",
        "nchannels = 59\n",
        "\n",
        "info = mne.create_info(\n",
        "    ch_names = chan_names, \n",
        "    ch_types = [\"eeg\"]*nchannels,\n",
        "    sfreq = sfreq\n",
        ")\n",
        "\n",
        "print(\"Event Created: \", info)"
      ],
      "metadata": {
        "colab": {
          "base_uri": "https://localhost:8080/"
        },
        "id": "icNcAPuNMze-",
        "outputId": "6666bb08-ba55-4b01-cd18-0af2a67d3e2e"
      },
      "execution_count": 24,
      "outputs": [
        {
          "output_type": "stream",
          "name": "stdout",
          "text": [
            "Event Created:  <Info | 7 non-empty values\n",
            " bads: []\n",
            " ch_names: AF3, AF4, F5, F3, F1, Fz, F2, F4, F6, FC5, FC3, FC1, FCz, FC2, ...\n",
            " chs: 59 EEG\n",
            " custom_ref_applied: False\n",
            " highpass: 0.0 Hz\n",
            " lowpass: 50.0 Hz\n",
            " meas_date: unspecified\n",
            " nchan: 59\n",
            " projs: []\n",
            " sfreq: 100.0 Hz\n",
            ">\n"
          ]
        }
      ]
    },
    {
      "cell_type": "markdown",
      "source": [
        "### **Initialized currently**\n",
        "\n",
        " **ch_names**: AF3, AF4, F5, F3, F1, Fz, F2, F4, F6, FC5, FC3, FC1, FCz, FC2, ...\n",
        "\n",
        " **chs**: 59 EEG\n",
        "\n",
        " **custom_ref_applied**: False\n",
        "\n",
        " **highpass**: 0.0 Hz\n",
        "\n",
        " **lowpass**: 50.0 Hz\n",
        "\n",
        " **meas_date**: unspecified\n",
        "\n",
        " **nchan**: 59\n",
        "\n",
        " **projs**: []\n",
        "\n",
        " **sfreq**: 100.0 Hz"
      ],
      "metadata": {
        "id": "pUoF0ybqOfPH"
      }
    },
    {
      "cell_type": "code",
      "source": [
        "# Electrode Positions (Digitals)\n",
        "xpos = mat_data[\"nfo\"][\"xpos\"][0][0]\n",
        "ypos = mat_data[\"nfo\"][\"ypos\"][0][0]\n",
        "\n",
        "layout_pos = np.concatenate([xpos, ypos], axis = 1)\n",
        "layout_pos"
      ],
      "metadata": {
        "colab": {
          "base_uri": "https://localhost:8080/"
        },
        "id": "U7Vnlk3uNh_3",
        "outputId": "b9da8872-c901-489d-f3c9-c2ad3e4419aa"
      },
      "execution_count": 27,
      "outputs": [
        {
          "output_type": "execute_result",
          "data": {
            "text/plain": [
              "array([[-0.20109028,  0.68656518],\n",
              "       [ 0.20109028,  0.68656518],\n",
              "       [-0.48547489,  0.52547424],\n",
              "       [-0.32894737,  0.46520183],\n",
              "       [-0.16535231,  0.43208641],\n",
              "       [ 0.        ,  0.421549  ],\n",
              "       [ 0.16535231,  0.43208641],\n",
              "       [ 0.32894737,  0.46520183],\n",
              "       [ 0.48547489,  0.52547424],\n",
              "       [-0.60591541,  0.27165704],\n",
              "       [-0.39919579,  0.23384348],\n",
              "       [-0.19765935,  0.21394494],\n",
              "       [ 0.        ,  0.20773757],\n",
              "       [ 0.19765935,  0.21394494],\n",
              "       [ 0.39919579,  0.23384348],\n",
              "       [ 0.60591541,  0.27165704],\n",
              "       [-0.74834683,  0.15177169],\n",
              "       [-0.52472976,  0.12553103],\n",
              "       [-0.30963911,  0.11086096],\n",
              "       [-0.10226303,  0.10426648],\n",
              "       [ 0.10226303,  0.10426648],\n",
              "       [ 0.30963911,  0.11086096],\n",
              "       [ 0.52472976,  0.12553103],\n",
              "       [ 0.74834683,  0.15177169],\n",
              "       [-0.87719298,  0.        ],\n",
              "       [-0.64569058,  0.        ],\n",
              "       [-0.421549  ,  0.        ],\n",
              "       [-0.20773757,  0.        ],\n",
              "       [ 0.        ,  0.        ],\n",
              "       [ 0.20773757,  0.        ],\n",
              "       [ 0.421549  ,  0.        ],\n",
              "       [ 0.64569058,  0.        ],\n",
              "       [ 0.87719298,  0.        ],\n",
              "       [-0.74834683, -0.15177169],\n",
              "       [-0.52472976, -0.12553103],\n",
              "       [-0.30963911, -0.11086096],\n",
              "       [-0.10226303, -0.10426648],\n",
              "       [ 0.10226303, -0.10426648],\n",
              "       [ 0.30963911, -0.11086096],\n",
              "       [ 0.52472976, -0.12553103],\n",
              "       [ 0.74834683, -0.15177169],\n",
              "       [-0.60591541, -0.27165704],\n",
              "       [-0.39919579, -0.23384348],\n",
              "       [-0.19765935, -0.21394494],\n",
              "       [ 0.        , -0.20773757],\n",
              "       [ 0.19765935, -0.21394494],\n",
              "       [ 0.39919579, -0.23384348],\n",
              "       [ 0.60591541, -0.27165704],\n",
              "       [-0.48547489, -0.52547424],\n",
              "       [-0.32894737, -0.46520183],\n",
              "       [-0.16535231, -0.43208641],\n",
              "       [ 0.        , -0.421549  ],\n",
              "       [ 0.16535231, -0.43208641],\n",
              "       [ 0.32894737, -0.46520183],\n",
              "       [ 0.48547489, -0.52547424],\n",
              "       [-0.10395865, -0.65583812],\n",
              "       [ 0.10395865, -0.65583812],\n",
              "       [-0.17113186, -0.86033797],\n",
              "       [ 0.17113186, -0.86033797]])"
            ]
          },
          "metadata": {},
          "execution_count": 27
        }
      ]
    },
    {
      "cell_type": "code",
      "source": [
        "# Plot the layeout --mne channels \n",
        "\n",
        "layout = mne.channels.generate_2d_layout(\n",
        "    xy = layout_pos, \n",
        "    ch_names = chan_names, \n",
        "    name = \"EEG custom layout\"\n",
        ")\n",
        "\n",
        "layout.plot();"
      ],
      "metadata": {
        "colab": {
          "base_uri": "https://localhost:8080/",
          "height": 463
        },
        "id": "r725qaH_PM6E",
        "outputId": "43754232-7fd6-4586-e300-036c586569c6"
      },
      "execution_count": 28,
      "outputs": [
        {
          "output_type": "display_data",
          "data": {
            "text/plain": [
              "<Figure size 432x432 with 1 Axes>"
            ],
            "image/png": "[encoded data removed]"
          },
          "metadata": {}
        }
      ]
    },
    {
      "cell_type": "code",
      "source": [],
      "metadata": {
        "id": "eXZGjKc_QS79"
      },
      "execution_count": null,
      "outputs": []
    }
  ]
}