{
  "nbformat": 4,
  "nbformat_minor": 0,
  "metadata": {
    "colab": {
      "provenance": [],
      "mount_file_id": "1uU79l0ZiIbKFSvO2y7W1K8su9tQDiEIw",
      "authorship_tag": "ABX9TyNPPKteEKFCteyEFq+8leGg",
      "include_colab_link": true
    },
    "kernelspec": {
      "name": "python3",
      "display_name": "Python 3"
    },
    "language_info": {
      "name": "python"
    }
  },
  "cells": [
    {
      "cell_type": "markdown",
      "metadata": {
        "id": "view-in-github",
        "colab_type": "text"
      },
      "source": [
        "<a href=\"https://colab.research.google.com/github/hecshzye/brain_computer_interface_analysis_1/blob/main/BCI_EEG_Data_Analysis_1.ipynb\" target=\"_parent\"><img src=\"https://colab.research.google.com/assets/colab-badge.svg\" alt=\"Open In Colab\"/></a>"
      ]
    },
    {
      "cell_type": "code",
      "execution_count": 2,
      "metadata": {
        "id": "5HFSMmMp9TU2"
      },
      "outputs": [],
      "source": [
        "# Imports \n",
        "\n",
        "import pandas as pd\n",
        "import numpy as np\n",
        "import matplotlib.pyplot as plt \n",
        "\n",
        "import requests\n",
        "\n",
        "# To load and read Matlab data \n",
        "from scipy.io import loadmat "
      ]
    },
    {
      "cell_type": "code",
      "source": [
        "# Load the data from the directory \n",
        "\n",
        "mat_data = loadmat(\"BCICIV_calib_ds1d.mat\", struct_as_record=True)"
      ],
      "metadata": {
        "id": "m17QNm-d-zNF"
      },
      "execution_count": 3,
      "outputs": []
    },
    {
      "cell_type": "code",
      "source": [
        "# Analysing the keys of mat_data\n",
        "mat_data.keys()"
      ],
      "metadata": {
        "colab": {
          "base_uri": "https://localhost:8080/"
        },
        "id": "w_EtBXQl_cTh",
        "outputId": "814cc8da-016a-4224-b85d-2eaaf9e5b309"
      },
      "execution_count": 5,
      "outputs": [
        {
          "output_type": "execute_result",
          "data": {
            "text/plain": [
              "dict_keys(['__header__', '__version__', '__globals__', 'mrk', 'cnt', 'nfo'])"
            ]
          },
          "metadata": {},
          "execution_count": 5
        }
      ]
    },
    {
      "cell_type": "code",
      "source": [
        "# Signal frequency of the EEG data \n",
        "sfreq = mat_data[\"nfo\"][\"fs\"][0][0][0][0]\n",
        "\n",
        "# Data manipulations \n",
        "EEGdata = mat_data[\"cnt\"].T   #transpose \n",
        "\n",
        "# Number of EEG--Channels\n",
        "nchannels, nsamples = EEGdata.shape \n",
        "\n",
        "# Channel Names\n",
        "chan_names = [s[0] for s in mat_data[\"nfo\"][\"clab\"][0][0][0]]"
      ],
      "metadata": {
        "id": "UhCl23CO_jm8"
      },
      "execution_count": 6,
      "outputs": []
    },
    {
      "cell_type": "code",
      "source": [
        "# Events --\n",
        "event_onsets = mat_data[\"mrk\"][0][0][0]\n",
        "event_codes = mat_data[\"mrk\"][0][0][1]\n",
        "\n",
        "# labels \n",
        "labels = np.zeros((1, nsamples), int)\n",
        "labels[0, event_onsets] = event_codes\n",
        "\n",
        "cl_lab = [s[0] for s in mat_data[\"nfo\"][\"classes\"][0][0][0]]\n",
        "cl1 = cl_lab[0]\n",
        "cl2 = cl_lab[1]"
      ],
      "metadata": {
        "id": "QpzBz5FGBBg_"
      },
      "execution_count": 7,
      "outputs": []
    },
    {
      "cell_type": "code",
      "source": [
        "# EEG Electrode positions digitised \n",
        "xpos = mat_data[\"nfo\"][\"xpos\"]\n",
        "ypos = mat_data[\"nfo\"][\"ypos\"]\n",
        "\n",
        "nclasses = len(cl_lab)\n",
        "nevents = len(event_onsets)"
      ],
      "metadata": {
        "id": "mBcdAlgpG5SZ"
      },
      "execution_count": 9,
      "outputs": []
    },
    {
      "cell_type": "code",
      "source": [
        "# Visualize \n",
        "print(\"Sample Rate:\", sfreq)\n",
        "print(\"Channel Names:\", nchannels)\n",
        "print(\"Shape of EEG data:\", EEGdata.shape)\n",
        "print(\"NUmber of channels:\", nchannels)\n",
        "print(\"Number of Events:\", len(event_onsets))\n",
        "print(\"Number of Classes:\", nclasses)\n",
        "print(\"Class Labels:\", cl_lab)\n",
        "print(\"Event Codes:\", np.unique(event_codes))\n"
      ],
      "metadata": {
        "colab": {
          "base_uri": "https://localhost:8080/"
        },
        "id": "wttBqB1-HV3F",
        "outputId": "3e7dc02b-3017-41ef-b184-6c623ae1bfe7"
      },
      "execution_count": 10,
      "outputs": [
        {
          "output_type": "stream",
          "name": "stdout",
          "text": [
            "Sample Rate: 100\n",
            "Channel Names: 59\n",
            "Shape of EEG data: (59, 190473)\n",
            "NUmber of channels: 59\n",
            "Number of Events: 1\n",
            "Number of Classes: 2\n",
            "Class Labels: ['left', 'right']\n",
            "Event Codes: [-1  1]\n"
          ]
        }
      ]
    },
    {
      "cell_type": "code",
      "source": [],
      "metadata": {
        "id": "zKDAbZvNIVci"
      },
      "execution_count": null,
      "outputs": []
    }
  ]
}